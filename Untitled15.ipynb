{
  "nbformat": 4,
  "nbformat_minor": 0,
  "metadata": {
    "colab": {
      "provenance": []
    },
    "kernelspec": {
      "name": "python3",
      "display_name": "Python 3"
    },
    "language_info": {
      "name": "python"
    }
  },
  "cells": [
    {
      "cell_type": "code",
      "execution_count": 4,
      "metadata": {
        "id": "S0WwlZm1FlG0"
      },
      "outputs": [],
      "source": [
        "import pandas as pd\n",
        "import numpy as np\n",
        "import pickle\n",
        "import matplotlib.pyplot as plt\n",
        "from scipy import stats\n",
        "import tensorflow as tf\n",
        "import seaborn as sns\n",
        "from sklearn import metrics\n",
        "from sklearn.model_selection import train_test_split\n",
        "\n",
        "%matplotlib inline"
      ]
    },
    {
      "cell_type": "code",
      "source": [
        "sns.set(style=\"whitegrid\", palette=\"muted\", font_scale=1.5)\n",
        "RANDOM_SEED = 42\n",
        "\n",
        "from google.colab import drive\n",
        "drive.mount('/content/drive')"
      ],
      "metadata": {
        "colab": {
          "base_uri": "https://localhost:8080/"
        },
        "id": "0bhsLFNEFme9",
        "outputId": "b342942e-ee5a-4e55-d150-ee14a0bf9b85"
      },
      "execution_count": 5,
      "outputs": [
        {
          "output_type": "stream",
          "name": "stdout",
          "text": [
            "Drive already mounted at /content/drive; to attempt to forcibly remount, call drive.mount(\"/content/drive\", force_remount=True).\n"
          ]
        }
      ]
    },
    {
      "cell_type": "code",
      "source": [
        "from google.colab import files\n",
        "uploaded = files.upload()"
      ],
      "metadata": {
        "colab": {
          "base_uri": "https://localhost:8080/",
          "height": 39
        },
        "id": "EuiXmOuDFqD1",
        "outputId": "6055a7b5-c431-4d72-c340-789352c6c745"
      },
      "execution_count": 6,
      "outputs": [
        {
          "output_type": "display_data",
          "data": {
            "text/plain": [
              "<IPython.core.display.HTML object>"
            ],
            "text/html": [
              "\n",
              "     <input type=\"file\" id=\"files-060fde43-075e-4cee-aea9-8707fc837ab9\" name=\"files[]\" multiple disabled\n",
              "        style=\"border:none\" />\n",
              "     <output id=\"result-060fde43-075e-4cee-aea9-8707fc837ab9\">\n",
              "      Upload widget is only available when the cell has been executed in the\n",
              "      current browser session. Please rerun this cell to enable.\n",
              "      </output>\n",
              "      <script>// Copyright 2017 Google LLC\n",
              "//\n",
              "// Licensed under the Apache License, Version 2.0 (the \"License\");\n",
              "// you may not use this file except in compliance with the License.\n",
              "// You may obtain a copy of the License at\n",
              "//\n",
              "//      http://www.apache.org/licenses/LICENSE-2.0\n",
              "//\n",
              "// Unless required by applicable law or agreed to in writing, software\n",
              "// distributed under the License is distributed on an \"AS IS\" BASIS,\n",
              "// WITHOUT WARRANTIES OR CONDITIONS OF ANY KIND, either express or implied.\n",
              "// See the License for the specific language governing permissions and\n",
              "// limitations under the License.\n",
              "\n",
              "/**\n",
              " * @fileoverview Helpers for google.colab Python module.\n",
              " */\n",
              "(function(scope) {\n",
              "function span(text, styleAttributes = {}) {\n",
              "  const element = document.createElement('span');\n",
              "  element.textContent = text;\n",
              "  for (const key of Object.keys(styleAttributes)) {\n",
              "    element.style[key] = styleAttributes[key];\n",
              "  }\n",
              "  return element;\n",
              "}\n",
              "\n",
              "// Max number of bytes which will be uploaded at a time.\n",
              "const MAX_PAYLOAD_SIZE = 100 * 1024;\n",
              "\n",
              "function _uploadFiles(inputId, outputId) {\n",
              "  const steps = uploadFilesStep(inputId, outputId);\n",
              "  const outputElement = document.getElementById(outputId);\n",
              "  // Cache steps on the outputElement to make it available for the next call\n",
              "  // to uploadFilesContinue from Python.\n",
              "  outputElement.steps = steps;\n",
              "\n",
              "  return _uploadFilesContinue(outputId);\n",
              "}\n",
              "\n",
              "// This is roughly an async generator (not supported in the browser yet),\n",
              "// where there are multiple asynchronous steps and the Python side is going\n",
              "// to poll for completion of each step.\n",
              "// This uses a Promise to block the python side on completion of each step,\n",
              "// then passes the result of the previous step as the input to the next step.\n",
              "function _uploadFilesContinue(outputId) {\n",
              "  const outputElement = document.getElementById(outputId);\n",
              "  const steps = outputElement.steps;\n",
              "\n",
              "  const next = steps.next(outputElement.lastPromiseValue);\n",
              "  return Promise.resolve(next.value.promise).then((value) => {\n",
              "    // Cache the last promise value to make it available to the next\n",
              "    // step of the generator.\n",
              "    outputElement.lastPromiseValue = value;\n",
              "    return next.value.response;\n",
              "  });\n",
              "}\n",
              "\n",
              "/**\n",
              " * Generator function which is called between each async step of the upload\n",
              " * process.\n",
              " * @param {string} inputId Element ID of the input file picker element.\n",
              " * @param {string} outputId Element ID of the output display.\n",
              " * @return {!Iterable<!Object>} Iterable of next steps.\n",
              " */\n",
              "function* uploadFilesStep(inputId, outputId) {\n",
              "  const inputElement = document.getElementById(inputId);\n",
              "  inputElement.disabled = false;\n",
              "\n",
              "  const outputElement = document.getElementById(outputId);\n",
              "  outputElement.innerHTML = '';\n",
              "\n",
              "  const pickedPromise = new Promise((resolve) => {\n",
              "    inputElement.addEventListener('change', (e) => {\n",
              "      resolve(e.target.files);\n",
              "    });\n",
              "  });\n",
              "\n",
              "  const cancel = document.createElement('button');\n",
              "  inputElement.parentElement.appendChild(cancel);\n",
              "  cancel.textContent = 'Cancel upload';\n",
              "  const cancelPromise = new Promise((resolve) => {\n",
              "    cancel.onclick = () => {\n",
              "      resolve(null);\n",
              "    };\n",
              "  });\n",
              "\n",
              "  // Wait for the user to pick the files.\n",
              "  const files = yield {\n",
              "    promise: Promise.race([pickedPromise, cancelPromise]),\n",
              "    response: {\n",
              "      action: 'starting',\n",
              "    }\n",
              "  };\n",
              "\n",
              "  cancel.remove();\n",
              "\n",
              "  // Disable the input element since further picks are not allowed.\n",
              "  inputElement.disabled = true;\n",
              "\n",
              "  if (!files) {\n",
              "    return {\n",
              "      response: {\n",
              "        action: 'complete',\n",
              "      }\n",
              "    };\n",
              "  }\n",
              "\n",
              "  for (const file of files) {\n",
              "    const li = document.createElement('li');\n",
              "    li.append(span(file.name, {fontWeight: 'bold'}));\n",
              "    li.append(span(\n",
              "        `(${file.type || 'n/a'}) - ${file.size} bytes, ` +\n",
              "        `last modified: ${\n",
              "            file.lastModifiedDate ? file.lastModifiedDate.toLocaleDateString() :\n",
              "                                    'n/a'} - `));\n",
              "    const percent = span('0% done');\n",
              "    li.appendChild(percent);\n",
              "\n",
              "    outputElement.appendChild(li);\n",
              "\n",
              "    const fileDataPromise = new Promise((resolve) => {\n",
              "      const reader = new FileReader();\n",
              "      reader.onload = (e) => {\n",
              "        resolve(e.target.result);\n",
              "      };\n",
              "      reader.readAsArrayBuffer(file);\n",
              "    });\n",
              "    // Wait for the data to be ready.\n",
              "    let fileData = yield {\n",
              "      promise: fileDataPromise,\n",
              "      response: {\n",
              "        action: 'continue',\n",
              "      }\n",
              "    };\n",
              "\n",
              "    // Use a chunked sending to avoid message size limits. See b/62115660.\n",
              "    let position = 0;\n",
              "    do {\n",
              "      const length = Math.min(fileData.byteLength - position, MAX_PAYLOAD_SIZE);\n",
              "      const chunk = new Uint8Array(fileData, position, length);\n",
              "      position += length;\n",
              "\n",
              "      const base64 = btoa(String.fromCharCode.apply(null, chunk));\n",
              "      yield {\n",
              "        response: {\n",
              "          action: 'append',\n",
              "          file: file.name,\n",
              "          data: base64,\n",
              "        },\n",
              "      };\n",
              "\n",
              "      let percentDone = fileData.byteLength === 0 ?\n",
              "          100 :\n",
              "          Math.round((position / fileData.byteLength) * 100);\n",
              "      percent.textContent = `${percentDone}% done`;\n",
              "\n",
              "    } while (position < fileData.byteLength);\n",
              "  }\n",
              "\n",
              "  // All done.\n",
              "  yield {\n",
              "    response: {\n",
              "      action: 'complete',\n",
              "    }\n",
              "  };\n",
              "}\n",
              "\n",
              "scope.google = scope.google || {};\n",
              "scope.google.colab = scope.google.colab || {};\n",
              "scope.google.colab._files = {\n",
              "  _uploadFiles,\n",
              "  _uploadFilesContinue,\n",
              "};\n",
              "})(self);\n",
              "</script> "
            ]
          },
          "metadata": {}
        }
      ]
    },
    {
      "cell_type": "code",
      "source": [
        "#transforming shape\n",
        "reshaped_segments = np.asarray(\n",
        "    segments, dtype = np.float32).reshape(\n",
        "    -1 , N_time_steps, N_features)\n",
        "\n",
        "reshaped_segments.shape"
      ],
      "metadata": {
        "colab": {
          "base_uri": "https://localhost:8080/",
          "height": 211
        },
        "id": "1HaVWeSeFsiM",
        "outputId": "f5c2eafb-03fe-47fd-b4b2-59b2f6cda88b"
      },
      "execution_count": 7,
      "outputs": [
        {
          "output_type": "error",
          "ename": "NameError",
          "evalue": "name 'segments' is not defined",
          "traceback": [
            "\u001b[0;31m---------------------------------------------------------------------------\u001b[0m",
            "\u001b[0;31mNameError\u001b[0m                                 Traceback (most recent call last)",
            "\u001b[0;32m/tmp/ipython-input-405839739.py\u001b[0m in \u001b[0;36m<cell line: 0>\u001b[0;34m()\u001b[0m\n\u001b[1;32m      1\u001b[0m \u001b[0;31m#transforming shape\u001b[0m\u001b[0;34m\u001b[0m\u001b[0;34m\u001b[0m\u001b[0m\n\u001b[1;32m      2\u001b[0m reshaped_segments = np.asarray(\n\u001b[0;32m----> 3\u001b[0;31m     \u001b[0msegments\u001b[0m\u001b[0;34m,\u001b[0m \u001b[0mdtype\u001b[0m \u001b[0;34m=\u001b[0m \u001b[0mnp\u001b[0m\u001b[0;34m.\u001b[0m\u001b[0mfloat32\u001b[0m\u001b[0;34m)\u001b[0m\u001b[0;34m.\u001b[0m\u001b[0mreshape\u001b[0m\u001b[0;34m(\u001b[0m\u001b[0;34m\u001b[0m\u001b[0;34m\u001b[0m\u001b[0m\n\u001b[0m\u001b[1;32m      4\u001b[0m     -1 , N_time_steps, N_features)\n\u001b[1;32m      5\u001b[0m \u001b[0;34m\u001b[0m\u001b[0m\n",
            "\u001b[0;31mNameError\u001b[0m: name 'segments' is not defined"
          ]
        }
      ]
    },
    {
      "cell_type": "code",
      "source": [
        "X_train, X_test, Y_train, Y_test = train_test_split(\n",
        "    reshaped_segments, labels, test_size = 0.2,\n",
        "    random_state = RANDOM_SEED)"
      ],
      "metadata": {
        "id": "pWvwrSYfFvD9"
      },
      "execution_count": null,
      "outputs": []
    },
    {
      "cell_type": "code",
      "source": [
        "def create_LSTM_model(inputs):\n",
        "    W = {\n",
        "        'hidden': tf.Variable(tf.random_normal([N_features, N_hidden_units])),\n",
        "        'output': tf.Variable(tf.random_normal([N_hidden_units, N_classes]))\n",
        "    }\n",
        "    biases = {\n",
        "        'hidden': tf.Variable(tf.random_normal([N_hidden_units], mean = 0.1)),\n",
        "        'output': tf.Variable(tf.random_normal([N_classes]))\n",
        "    }\n",
        "    X = tf.transpose(inputs, [1, 0, 2])\n",
        "    X = tf.reshape(X, [-1, N_features])\n",
        "    hidden = tf.nn.relu(tf.matmul(X, W['hidden']) + biases['hidden'])\n",
        "    hidden = tf.split(hidden, N_time_steps, 0)\n",
        "\n",
        "    lstm_layers = [tf.contrib.rnn.BasicLSTMCell(\n",
        "        N_hidden_units, forget_bias = 1.0) for _ in range(2)]\n",
        "    lstm_layers = tf.contrib.rnn.MultiRNNCell(lstm_layers)\n",
        "\n",
        "    outputs, _ = tf.contrib.rnn.static_rnn(lstm_layers,\n",
        "                                           hidden, dtype = tf.float32)\n",
        "\n",
        "    lstm_last_output = outputs[-1]\n",
        "    return tf.matmul(lstm_last_output, W['output']) + biases['output']"
      ],
      "metadata": {
        "id": "oSJtRKPTFxZX"
      },
      "execution_count": null,
      "outputs": []
    },
    {
      "cell_type": "code",
      "source": [
        "L2_LOSS = 0.0015\n",
        "l2 = L2_LOSS * \\\n",
        "  sum(tf.nn.l2_loss(tf_var) for tf_var in tf.trainable_variables())\n",
        "loss = tf.reduce_mean(tf.nn.softmax_cross_entropy_with_logits(\n",
        "    logits = pred_y, labels = Y)) + l2\n",
        "\n",
        "Learning_rate = 0.0025\n",
        "optimizer = tf.train.AdamOptimizer(learning_rate = Learning_rate).minimize(loss)\n",
        "correct_pred = tf.equal(tf.argmax(pred_softmax , 1), tf.argmax(Y,1))\n",
        "accuracy = tf.reduce_mean(tf.cast(correct_pred, dtype = tf.float32))"
      ],
      "metadata": {
        "id": "fZg9vXP-F0qk"
      },
      "execution_count": null,
      "outputs": []
    },
    {
      "cell_type": "code",
      "source": [
        "# epochs is number of iterations performed in model training.\n",
        "N_epochs = 50\n",
        "batch_size = 1024\n",
        "\n",
        "saver = tf.train.Saver()\n",
        "history = dict(train_loss=[], train_acc=[], test_loss=[], test_acc=[])\n",
        "sess = tf.InteractiveSession()\n",
        "sess.run(tf.global_variables_initializer())\n",
        "train_count = len(X_train)\n",
        "\n",
        "for i in range(1, N_epochs + 1):\n",
        "    for start, end in zip(range(0, train_count, batch_size),\n",
        "                          range(batch_size, train_count + 1, batch_size)):\n",
        "        sess.run(optimizer, feed_dict={X: X_train[start:end],\n",
        "                                       Y: Y_train[start:end]})\n",
        "    _, acc_train, loss_train = sess.run([pred_softmax, accuracy, loss], feed_dict={\n",
        "        X: X_train, Y: Y_train})\n",
        "    _, acc_test, loss_test = sess.run([pred_softmax, accuracy, loss], feed_dict={\n",
        "        X: X_test, Y: Y_test})\n",
        "    history['train_loss'].append(loss_train)\n",
        "    history['train_acc'].append(acc_train)\n",
        "    history['test_loss'].append(loss_test)\n",
        "    history['test_acc'].append(acc_test)\n",
        "\n",
        "    if (i != 1 and i % 10 != 0):\n",
        "        print(f'epoch: {i} test_accuracy:{acc_test} loss:{loss_test}')\n",
        "predictions, acc_final, loss_final = sess.run([pred_softmax, accuracy, loss],\n",
        "                                              feed_dict={X: X_test, Y: Y_test})\n",
        "print()\n",
        "print(f'final results : accuracy : {acc_final} loss : {loss_final}')"
      ],
      "metadata": {
        "id": "u-XqKyNSF4hm"
      },
      "execution_count": null,
      "outputs": []
    },
    {
      "cell_type": "code",
      "source": [
        "plt.figure(figsize=(12,8))\n",
        "\n",
        "plt.plot(np.array(history['train_loss']), &quot;r--&quot;, label=&quot;Train loss&quot;)\n",
        "plt.plot(np.array(history['train_acc']), &quot;g--&quot;, label=&quot;Train accuracy&quot;)\n",
        "\n",
        "plt.plot(np.array(history['test_loss']), &quot;r--&quot;, label=&quot;Test loss&quot;)\n",
        "plt.plot(np.array(history['test_acc']), &quot;g--&quot;, label=&quot;Test accuracy&quot;)\n",
        "\n",
        "plt.title(&quot;Training session's progress over iteration&quot;)\n",
        "plt.legend(loc = 'upper right', shadow = True)\n",
        "plt.ylabel('Training Progress(Loss or Accuracy values)')\n",
        "plt.xlabel('Training Epoch')\n",
        "plt.ylim(0)\n",
        "\n",
        "plt.show()"
      ],
      "metadata": {
        "id": "LLNQLwGbF6wG"
      },
      "execution_count": null,
      "outputs": []
    },
    {
      "cell_type": "code",
      "source": [
        "max_test = np.argmax(Y_test, axis=1)\n",
        "max_predictions = np.argmax(predictions, axis = 1)\n",
        "confusion_matrix = metrics.confusion_matrix(max_test, max_predictions)\n",
        "\n",
        "plt.figure(figsize=(16,14))\n",
        "sns.heatmap(confusion_matrix, xticklabels = LABELS, yticklabels = LABELS, annot =True, fmt = &quot;d&quot;)\n",
        "plt.title(&quot;Confusion Matrix&quot;)\n",
        "plt.xlabel('Predicted_label')\n",
        "plt.ylabel('True Label')\n",
        "plt.show()"
      ],
      "metadata": {
        "id": "rO5vClFWF9Ka"
      },
      "execution_count": null,
      "outputs": []
    }
  ]
}